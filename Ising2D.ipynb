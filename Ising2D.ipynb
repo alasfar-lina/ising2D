{
 "cells": [
  {
   "cell_type": "markdown",
   "metadata": {},
   "source": [
    "This project aims at simulating on your computer the paramagnetic/ferromagnetic phase transition. For this, we will simulate the 2 dimensional ising model.\n",
    "\n",
    "# Ising model\n",
    "\n",
    "The hamiltonian (without external magnetic field) is\n",
    "\n",
    "$$H = -J\\sum_{(i,j)}s_i S_j$$"
   ]
  }
 ],
 "metadata": {
  "kernelspec": {
   "display_name": "Python 3",
   "language": "python",
   "name": "python3"
  },
  "language_info": {
   "codemirror_mode": {
    "name": "ipython",
    "version": 3
   },
   "file_extension": ".py",
   "mimetype": "text/x-python",
   "name": "python",
   "nbconvert_exporter": "python",
   "pygments_lexer": "ipython3",
   "version": "3.6.1"
  }
 },
 "nbformat": 4,
 "nbformat_minor": 2
}
