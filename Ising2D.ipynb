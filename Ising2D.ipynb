{
 "cells": [
  {
   "cell_type": "markdown",
   "metadata": {},
   "source": [
    "This project aims at simulating on your computer the paramagnetic/ferromagnetic phase transition. For this, we will simulate the 2 dimensional ising model.\n",
    "\n",
    "# Ising model\n",
    "\n",
    "The hamiltonian (without external magnetic field) is\n",
    "\n",
    "$$H = -J\\sum_{(i,j)}S_i S_j$$\n",
    "\n",
    "where $S_i$ is the spin at location $i$ and $J$ is a constant describing the strength of the interaction between neighbouring spins. We consider $S_i = \\pm 1$ (for all $i$). The sum in the previous equation runs overs all neaghbouring spins. In order to simulate the system, we will implement the Metropolis algorithm, which proceeds as follows:\n",
    "\n",
    "1. Start with some random spin configuration\n",
    "2. Pick a spin at random and flip it\n",
    "3. Compute the energy change $\\Delta E$ due to this flip\n",
    "4. If $\\Delta E \\leq 0$, accept the flip\n",
    "5. If $\\Delta E > 0$, accept the flip with probability $P = e^{-\\beta \\Delta E}$, where $\\beta = \\frac{1}{k_BT}$\n",
    "6. If flip is rejected, put the spin back in its original direction\n",
    "7. Go to 2. until maximum number of iteractions is reached\n",
    "\n",
    "# Implementation\n",
    "\n",
    "In order to simplify the implementation, we will take $J=1$ and $k_B=1$. \n",
    "\n",
    "## Step 1\n",
    "\n",
    "The first step of the implementation consists in creating a 2D grid of spins in up and down positions and plotting it. For this, do the following:\n",
    "\n",
    "- Implement a `struct` called `Grid` having as fields: a 2D slice (that will contain the spin values at each node of the grid), the size $N$ of the grid ($N$ corresponds to the number of rows and columns, so that the total number of spins is $N\\times N$), the coupling $J$ and the temperature $T$.\n",
    "- Implement a `NewGrid` function that builds an object of type `Grid` (take $N=80$). \n",
    "- Implement a method called `Init` that randomly initializes the grid.\n",
    "\n",
    "In the last step, one need to draw random numbers. For this, the `math/rand` package can be used. Once this is done, a plot displaying the grid must be produced. For this, we will use the `gonum/plot` package. The idea is to create two scatter plots (one containing the coordinates of the up spins and the other one containing the coordinates of the down spins) and to plot them on top of each other. Scatter plots can be created using the `plotter.Scatter` structure. This structure requires a `struct` implementing the `XYer` interface (defined in plotter/plotter.go). You thus need to implement such a `struct` and create two instances of it, one for the up spins and one for the down spins. \n",
    "\n",
    "Now that you have your two `plotter.Scatter` objects `scaUp` and `scaDown` you can plot them. For this, do:\n",
    "\n",
    "```\n",
    "p, _ := plot.New()\n",
    "p.Add(scaUp, scaDown)\n",
    "p.Save(6*vg.Inch, 6*vg.Inch, \"Grid2D.png\")\n",
    "```\n",
    "\n",
    "The first line creates a plot object. The second line adds to the plot your two scatter plots and the third line saves your plot into a png file. Open this png file and check that it makes sense. \n",
    "\n",
    "## Remaining steps\n",
    "\n",
    "\n"
   ]
  },
  {
   "cell_type": "code",
   "execution_count": null,
   "metadata": {
    "collapsed": true
   },
   "outputs": [],
   "source": []
  }
 ],
 "metadata": {
  "kernelspec": {
   "display_name": "Python 3",
   "language": "python",
   "name": "python3"
  },
  "language_info": {
   "codemirror_mode": {
    "name": "ipython",
    "version": 3
   },
   "file_extension": ".py",
   "mimetype": "text/x-python",
   "name": "python",
   "nbconvert_exporter": "python",
   "pygments_lexer": "ipython3",
   "version": "3.6.1"
  }
 },
 "nbformat": 4,
 "nbformat_minor": 2
}
